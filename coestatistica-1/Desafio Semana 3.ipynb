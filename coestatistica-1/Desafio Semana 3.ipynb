{
 "cells": [
  {
   "cell_type": "markdown",
   "metadata": {},
   "source": [
    "### Detalhes\n",
    "A resposta deve conter os valores da média, mediana, moda e desvio padrão da pontuação de crédito para cada estado do dataset. O arquivo para submissão deve estar em formato json, conforme o arquivo exemplo “submission.json”.\n",
    "\n",
    "#### OBSERVAÇÃO: É recomendado utilizar Python e pandas para esse desafio, mas também é possível utilizar outras ferramentas e linguagens de programação.\n",
    "\n",
    "Descrição dos dados: \n",
    "- ‘id’: Identificador do cliente \n",
    "- ‘sobrenome’: Sobrenome do cliente \n",
    "- ‘pontuacao_credito’: Pontuação de crédito do cliente (quanto maior, melhor o cliente geralmente) \n",
    "- ‘estado_residencia’: Estado de residência do cliente \n",
    "- ‘genero’: Gênero do cliente \n",
    "- ‘nivel_estabilidade’: Nível de estabilidade do cliente\n",
    "- ‘saldo_conta’: Saldo disponível na conta do cliente\n",
    "- ‘numero_produtos’: Número de produtos que o cliente consome\n",
    "- ‘possui_cartao_de_credito’: Possui um cartão de crédito cadastrado \n",
    "- ‘membro_ativo’: Membro acessa e consome frequentemente\n",
    "\n",
    "Obs: Os dados são fictícios, mas tentam representar a realidade de uma base de clientes de um produto SaaS."
   ]
  },
  {
   "cell_type": "code",
   "execution_count": 1,
   "metadata": {},
   "outputs": [],
   "source": [
    "import pandas as pd\n",
    "import numpy as np\n"
   ]
  },
  {
   "cell_type": "code",
   "execution_count": 2,
   "metadata": {},
   "outputs": [],
   "source": [
    "dados = pd.read_csv(\"desafio1.csv\")"
   ]
  },
  {
   "cell_type": "code",
   "execution_count": 4,
   "metadata": {},
   "outputs": [],
   "source": [
    "# Função que irá criar as medidas\n",
    "def get_dados(method):\n",
    "    medidas = {\"mean\": \"media\", \"median\": \"mediana\", 'std': \"desvio_padrao\", 'mode': \"moda\"}\n",
    "    coluna = medidas[str(method)[17:23].split(\" \")[0]]\n",
    "    return dados.groupby(\"estado_residencia\")['pontuacao_credito'].agg(method).reset_index().rename(columns={'pontuacao_credito': coluna})"
   ]
  },
  {
   "cell_type": "code",
   "execution_count": 20,
   "metadata": {},
   "outputs": [],
   "source": [
    "# Criando um dataframe com as medidas\n",
    "submission = pd.concat([get_dados(pd.Series.mean), \n",
    "           get_dados(pd.Series.median), \n",
    "           get_dados(pd.Series.std), \n",
    "           get_dados(pd.Series.mode)], axis=1)"
   ]
  },
  {
   "cell_type": "code",
   "execution_count": 21,
   "metadata": {},
   "outputs": [],
   "source": [
    "# Removendo as colunas \"estado_residencia\" que vieram duplicadas (irá restar apenas 1)\n",
    "submission = submission.T.drop_duplicates().T"
   ]
  },
  {
   "cell_type": "code",
   "execution_count": 22,
   "metadata": {},
   "outputs": [],
   "source": [
    "# Setando a coluna estado_residencia como index do DF\n",
    "submission.set_index('estado_residencia', inplace=True)"
   ]
  },
  {
   "cell_type": "code",
   "execution_count": 23,
   "metadata": {},
   "outputs": [],
   "source": [
    "# Removendo o nome da coluna de index\n",
    "del submission.index.name"
   ]
  },
  {
   "cell_type": "code",
   "execution_count": 24,
   "metadata": {},
   "outputs": [
    {
     "data": {
      "text/html": [
       "<div>\n",
       "<style scoped>\n",
       "    .dataframe tbody tr th:only-of-type {\n",
       "        vertical-align: middle;\n",
       "    }\n",
       "\n",
       "    .dataframe tbody tr th {\n",
       "        vertical-align: top;\n",
       "    }\n",
       "\n",
       "    .dataframe thead th {\n",
       "        text-align: right;\n",
       "    }\n",
       "</style>\n",
       "<table border=\"1\" class=\"dataframe\">\n",
       "  <thead>\n",
       "    <tr style=\"text-align: right;\">\n",
       "      <th></th>\n",
       "      <th>media</th>\n",
       "      <th>mediana</th>\n",
       "      <th>desvio_padrao</th>\n",
       "      <th>moda</th>\n",
       "    </tr>\n",
       "  </thead>\n",
       "  <tbody>\n",
       "    <tr>\n",
       "      <th>PR</th>\n",
       "      <td>648.961</td>\n",
       "      <td>650</td>\n",
       "      <td>98.6072</td>\n",
       "      <td>850</td>\n",
       "    </tr>\n",
       "    <tr>\n",
       "      <th>RS</th>\n",
       "      <td>651.105</td>\n",
       "      <td>650</td>\n",
       "      <td>95.1366</td>\n",
       "      <td>850</td>\n",
       "    </tr>\n",
       "    <tr>\n",
       "      <th>SC</th>\n",
       "      <td>649.538</td>\n",
       "      <td>653</td>\n",
       "      <td>97.2335</td>\n",
       "      <td>850</td>\n",
       "    </tr>\n",
       "  </tbody>\n",
       "</table>\n",
       "</div>"
      ],
      "text/plain": [
       "      media mediana desvio_padrao moda\n",
       "PR  648.961     650       98.6072  850\n",
       "RS  651.105     650       95.1366  850\n",
       "SC  649.538     653       97.2335  850"
      ]
     },
     "execution_count": 24,
     "metadata": {},
     "output_type": "execute_result"
    }
   ],
   "source": [
    "submission"
   ]
  },
  {
   "cell_type": "code",
   "execution_count": 26,
   "metadata": {},
   "outputs": [],
   "source": [
    "# Virando o dataframe para atender o json esperado\n",
    "submission.T.to_json(\"submission.json\")"
   ]
  },
  {
   "cell_type": "code",
   "execution_count": null,
   "metadata": {},
   "outputs": [],
   "source": []
  }
 ],
 "metadata": {
  "kernelspec": {
   "display_name": "desafio2",
   "language": "python",
   "name": "desafio2"
  },
  "language_info": {
   "codemirror_mode": {
    "name": "ipython",
    "version": 3
   },
   "file_extension": ".py",
   "mimetype": "text/x-python",
   "name": "python",
   "nbconvert_exporter": "python",
   "pygments_lexer": "ipython3",
   "version": "3.6.10"
  }
 },
 "nbformat": 4,
 "nbformat_minor": 2
}
